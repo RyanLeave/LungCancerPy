{
 "cells": [
  {
   "cell_type": "code",
   "execution_count": 5,
   "metadata": {},
   "outputs": [],
   "source": [
    "import numpy as np\n",
    "import os\n",
    "import matplotlib.pyplot as plt\n",
    "%matplotlib inline\n",
    "import torch\n",
    "import torch.nn as nn\n",
    "import torchvision.transforms as transforms\n",
    "import torchvision.datasets as dsets\n",
    "from torch.autograd import Variable\n",
    "import collections"
   ]
  },
  {
   "cell_type": "code",
   "execution_count": 17,
   "metadata": {},
   "outputs": [],
   "source": [
    "processed_data_dir = './processed data/'\n",
    "NO_OF_PATIENTS = 10"
   ]
  },
  {
   "cell_type": "code",
   "execution_count": 19,
   "metadata": {},
   "outputs": [
    {
     "name": "stdout",
     "output_type": "stream",
     "text": [
      "(5, 11, 512, 512)\n",
      "(5, 8, 512, 512)\n",
      "(5, 7, 512, 512)\n",
      "(5, 9, 512, 512)\n",
      "(5, 9, 512, 512)\n",
      "(5, 6, 512, 512)\n",
      "(5, 16, 512, 512)\n",
      "(5, 6, 512, 512)\n",
      "(5, 6, 512, 512)\n",
      "(5, 28, 512, 512)\n"
     ]
    }
   ],
   "source": [
    "files = os.listdir(processed_data_dir)\n",
    "patients = [np.load(processed_data_dir + s) for s in os.listdir(processed_data_dir)]\n",
    "images = [patients[i][0] for i in range(NO_OF_PATIENTS)]\n",
    "labels = [patients[i][1] for i in range(NO_OF_PATIENTS)]\n",
    "for i in range(NO_OF_PATIENTS):\n",
    "    print(images[i].shape)"
   ]
  },
  {
   "cell_type": "code",
   "execution_count": null,
   "metadata": {},
   "outputs": [],
   "source": [
    "# class CNNModel(nn.Module):\n",
    "#     def __init__(self):\n",
    "#         super(CNNModel,self).__init__()\n",
    "        \n",
    "#         self.cnn1 = nn.Conv2d(in_channels=1,out_channels=1,kernel_size=5,stride=1,padding=2)\n",
    "#         self.relu1 = nn.ReLU()\n",
    "#         self.avgpool1 = nn.AvgPool2d(kernel_size=2)\n",
    "        \n",
    "#         self.cnn2 = nn.Conv2d(in_channels=16,out_channels=32,kernel_size=5,stride=1,padding=2)\n",
    "#         self.relu2 = nn.ReLU()\n",
    "#         self.avgpool2 = nn.AvgPool2d(kernel_size=2)\n",
    "        \n",
    "#         self.fc1 = nn.Linear(32*7*7,10)\n",
    "        \n",
    "#     def forward(self,x):\n",
    "#         out = self.cnn1(x)\n",
    "#         out = self.relu1(out)\n",
    "#         out = self.avgpool1(out)\n",
    "#         out = self.cnn2(out)\n",
    "#         out = self.relu2(out)\n",
    "#         out = self.avgpool2(out)\n",
    "#         out = out.view(out.size(0),-1)\n",
    "#         out = self.fc1(out)\n",
    "        \n",
    "#         return out"
   ]
  },
  {
   "cell_type": "code",
   "execution_count": null,
   "metadata": {},
   "outputs": [],
   "source": [
    "# learning_rate = 0.1\n",
    "\n",
    "# model = CNNModel()\n",
    "# if torch.cuda.is_available():\n",
    "#     model.cuda()\n",
    "# criterion = nn.CrossEntropyLoss()\n",
    "# optimizer = torch.optim.SGD(model.parameters(),lr=learning_rate)"
   ]
  },
  {
   "cell_type": "code",
   "execution_count": null,
   "metadata": {},
   "outputs": [],
   "source": [
    "# iter = 0\n",
    "# for epoch in range(num_epochs):\n",
    "#     for i, (images,labels) in enumerate(train_loader):\n",
    "#         if torch.cuda.is_available():\n",
    "#             images = Variable(images.cuda())\n",
    "#             labels = Variable(labels.cuda())\n",
    "#         else:\n",
    "#             images = Variable(images)\n",
    "#             labels = Variable(labels)\n",
    "        \n",
    "#         optimizer.zero_grad()\n",
    "#         outputs = model(images)\n",
    "#         loss = criterion(outputs, labels)\n",
    "#         loss.backward()\n",
    "#         optimizer.step()\n",
    "        \n",
    "#         iter += 1\n",
    "#         if iter%500 == 0:\n",
    "#             correct = 0\n",
    "#             total = 0\n",
    "            \n",
    "#             for images, labels in test_loader:\n",
    "#                 if torch.cuda.is_available():\n",
    "#                     images = Variable(images.cuda())\n",
    "#                 else:\n",
    "#                     images = Variable(images)\n",
    "#                 outputs = model(images)\n",
    "                \n",
    "#                 _,predicted = torch.max(outputs.data,1)\n",
    "#                 total += labels.size(0)\n",
    "#                 correct += (predicted.cpu() == labels.cpu()).sum()\n",
    "            \n",
    "#             accuracy = 100 * correct / total\n",
    "#             print('Iteration:{}. Loss:{}. Accuracy:{}'.format(iter,loss.data[0],accuracy))"
   ]
  }
 ],
 "metadata": {
  "kernelspec": {
   "display_name": "Python 3",
   "language": "python",
   "name": "python3"
  },
  "language_info": {
   "codemirror_mode": {
    "name": "ipython",
    "version": 3
   },
   "file_extension": ".py",
   "mimetype": "text/x-python",
   "name": "python",
   "nbconvert_exporter": "python",
   "pygments_lexer": "ipython3",
   "version": "3.6.5"
  }
 },
 "nbformat": 4,
 "nbformat_minor": 2
}
